{
 "cells": [
  {
   "cell_type": "code",
   "execution_count": 1,
   "id": "848f247a-dcad-4202-96cf-d40ce3ab238c",
   "metadata": {},
   "outputs": [],
   "source": [
    "from langchain import PromptTemplate, HuggingFaceHub, LLMChain"
   ]
  },
  {
   "cell_type": "code",
   "execution_count": 2,
   "id": "6000d136-926a-4138-b724-b3f39e399d4c",
   "metadata": {},
   "outputs": [],
   "source": [
    "import os\n",
    "# os.environ[\"HUGGINGFACEHUB_API_TOKEN\"] = "
   ]
  },
  {
   "cell_type": "code",
   "execution_count": 3,
   "id": "af6f41ca-ff25-489d-98e4-e1dc7e38f605",
   "metadata": {},
   "outputs": [],
   "source": [
    "prompt = PromptTemplate(\n",
    "    input_variables=['product'],\n",
    "    template=\"Suggest me a good name for a company for sells {product}\"\n",
    ")"
   ]
  },
  {
   "cell_type": "code",
   "execution_count": 4,
   "id": "f502c539-f747-4b4e-898c-e1481f88f93d",
   "metadata": {},
   "outputs": [
    {
     "name": "stderr",
     "output_type": "stream",
     "text": [
      "C:\\Users\\Narex\\anaconda3\\envs\\testingopenai\\lib\\site-packages\\langchain_core\\_api\\deprecation.py:117: LangChainDeprecationWarning: The class `langchain_community.llms.huggingface_hub.HuggingFaceHub` was deprecated in langchain-community 0.0.21 and will be removed in 0.2.0. Use HuggingFaceEndpoint instead.\n",
      "  warn_deprecated(\n"
     ]
    }
   ],
   "source": [
    "chain = LLMChain(llm=HuggingFaceEndpoint (repo_id=\"google/flan-t5-base\", model_kwargs={'temperature':0.7}), prompt=prompt)"
   ]
  },
  {
   "cell_type": "code",
   "execution_count": 5,
   "id": "aa5049e9-cd52-4727-b6cb-efc251433e20",
   "metadata": {},
   "outputs": [
    {
     "name": "stderr",
     "output_type": "stream",
     "text": [
      "C:\\Users\\Narex\\anaconda3\\envs\\testingopenai\\lib\\site-packages\\langchain_core\\_api\\deprecation.py:117: LangChainDeprecationWarning: The function `run` was deprecated in LangChain 0.1.0 and will be removed in 0.2.0. Use invoke instead.\n",
      "  warn_deprecated(\n"
     ]
    },
    {
     "data": {
      "text/plain": [
       "'nike'"
      ]
     },
     "execution_count": 5,
     "metadata": {},
     "output_type": "execute_result"
    }
   ],
   "source": [
    "chain.invoke(\"shoes\")"
   ]
  },
  {
   "cell_type": "markdown",
   "id": "643e43b8-1379-43bd-be5d-ff1300348e0e",
   "metadata": {},
   "source": [
    "# Text Generation Models | Decoder only Models"
   ]
  },
  {
   "cell_type": "code",
   "execution_count": 6,
   "id": "9b336a9d-e2fa-446e-bc04-19fa2b812726",
   "metadata": {},
   "outputs": [],
   "source": [
    "from langchain.llms import HuggingFacePipeline\n",
    "import torch\n",
    "from transformers import AutoTokenizer, AutoModelForCausalLM, pipeline, AutoModelForSeq2SeqLM"
   ]
  },
  {
   "cell_type": "code",
   "execution_count": 13,
   "id": "ae0a8902-9795-46d7-893e-3b62f82912df",
   "metadata": {},
   "outputs": [],
   "source": [
    "model_id = 'google/flan-t5-large'"
   ]
  },
  {
   "cell_type": "code",
   "execution_count": 14,
   "id": "d5c0fe5d-2fa5-415a-b513-154b1c569222",
   "metadata": {},
   "outputs": [],
   "source": [
    "tokenizer = AutoTokenizer.from_pretrained(model_id)"
   ]
  },
  {
   "cell_type": "code",
   "execution_count": 15,
   "id": "8b87e4e0-b7fa-4bfc-b709-29d090e9b0ae",
   "metadata": {},
   "outputs": [
    {
     "data": {
      "application/vnd.jupyter.widget-view+json": {
       "model_id": "9f00a902e4204b43bc2833b5ca5be87e",
       "version_major": 2,
       "version_minor": 0
      },
      "text/plain": [
       "model.safetensors:   0%|          | 0.00/3.13G [00:00<?, ?B/s]"
      ]
     },
     "metadata": {},
     "output_type": "display_data"
    },
    {
     "data": {
      "application/vnd.jupyter.widget-view+json": {
       "model_id": "20689462135746d7a9ec6a9ab7b106e8",
       "version_major": 2,
       "version_minor": 0
      },
      "text/plain": [
       "generation_config.json:   0%|          | 0.00/147 [00:00<?, ?B/s]"
      ]
     },
     "metadata": {},
     "output_type": "display_data"
    },
    {
     "name": "stderr",
     "output_type": "stream",
     "text": [
      "WARNING:root:Some parameters are on the meta device device because they were offloaded to the cpu and disk.\n"
     ]
    }
   ],
   "source": [
    "model = AutoModelForSeq2SeqLM.from_pretrained(model_id, device_map='auto')"
   ]
  },
  {
   "cell_type": "code",
   "execution_count": 16,
   "id": "45219d5f-2623-4d9a-b990-e224f6fd17d7",
   "metadata": {},
   "outputs": [],
   "source": [
    "pipeline = pipeline('text2text-generation', model = model, tokenizer=tokenizer, max_length=128)"
   ]
  },
  {
   "cell_type": "code",
   "execution_count": 17,
   "id": "3df336de-5846-42e3-aa75-ec9c821e8057",
   "metadata": {},
   "outputs": [],
   "source": [
    "local_llm = HuggingFacePipeline(pipeline=pipeline)"
   ]
  },
  {
   "cell_type": "code",
   "execution_count": 22,
   "id": "8b7114a4-5258-4fcb-9f4a-54f2cee3d71d",
   "metadata": {},
   "outputs": [],
   "source": [
    "prompt = PromptTemplate(\n",
    "    input_variables=['name'],\n",
    "    template=\"Tell me about footballer {name}\"\n",
    ")"
   ]
  },
  {
   "cell_type": "code",
   "execution_count": 19,
   "id": "432e9573-1ae7-4ce5-be42-a24ee67dba7b",
   "metadata": {},
   "outputs": [],
   "source": [
    "chain = LLMChain(llm = local_llm, prompt = prompt)"
   ]
  },
  {
   "cell_type": "code",
   "execution_count": 23,
   "id": "4046aeac-1b0e-4466-a2e2-c3786378d64b",
   "metadata": {},
   "outputs": [
    {
     "data": {
      "text/plain": [
       "'Bruno Fernandes'"
      ]
     },
     "execution_count": 23,
     "metadata": {},
     "output_type": "execute_result"
    }
   ],
   "source": [
    "chain.run('bruno fernandes')"
   ]
  },
  {
   "cell_type": "code",
   "execution_count": null,
   "id": "2a43ff05-381e-45ae-b762-ab7c92c721c4",
   "metadata": {},
   "outputs": [],
   "source": []
  },
  {
   "cell_type": "code",
   "execution_count": null,
   "id": "693a107f-edea-40af-8ed7-d5c4b9f7a415",
   "metadata": {},
   "outputs": [],
   "source": []
  }
 ],
 "metadata": {
  "kernelspec": {
   "display_name": "Python 3 (ipykernel)",
   "language": "python",
   "name": "python3"
  },
  "language_info": {
   "codemirror_mode": {
    "name": "ipython",
    "version": 3
   },
   "file_extension": ".py",
   "mimetype": "text/x-python",
   "name": "python",
   "nbconvert_exporter": "python",
   "pygments_lexer": "ipython3",
   "version": "3.10.14"
  }
 },
 "nbformat": 4,
 "nbformat_minor": 5
}

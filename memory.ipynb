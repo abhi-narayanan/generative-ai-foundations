{
 "cells": [
  {
   "cell_type": "markdown",
   "id": "d4e92ccf-bc52-42b2-aac2-0892bcb97b94",
   "metadata": {},
   "source": [
    "# Memory"
   ]
  },
  {
   "cell_type": "code",
   "execution_count": 1,
   "id": "47155e0f-beff-4358-a449-b43cc8cd84e9",
   "metadata": {},
   "outputs": [],
   "source": [
    "from langchain_openai import OpenAI\n",
    "import langchain\n",
    "import json\n",
    "from langchain.agents import AgentType, load_tools, initialize_agent\n",
    "from langchain.prompts import PromptTemplate\n",
    "from langchain.chains import LLMChain"
   ]
  },
  {
   "cell_type": "code",
   "execution_count": 2,
   "id": "241c9d34-65b2-4233-99a3-325d0de0cb51",
   "metadata": {},
   "outputs": [],
   "source": [
    "with open(\"apikey.txt\") as f:\n",
    "    my_key = f.read()"
   ]
  },
  {
   "cell_type": "code",
   "execution_count": 3,
   "id": "b9f6c6b8-cdc3-40fb-a2dd-15b1f9439525",
   "metadata": {},
   "outputs": [],
   "source": [
    "client = OpenAI(api_key=my_key)"
   ]
  },
  {
   "cell_type": "code",
   "execution_count": 4,
   "id": "c5a56c57-7e3c-426d-862c-d5fbb7f2c546",
   "metadata": {},
   "outputs": [],
   "source": [
    "prompt_template_name = PromptTemplate(\n",
    "    input_variables=['product'],\n",
    "    template=\"Suggest me a good name for a company for sells {product}\"\n",
    ")"
   ]
  },
  {
   "cell_type": "code",
   "execution_count": 5,
   "id": "902581b7-4dbf-428b-85a4-7807fa930441",
   "metadata": {},
   "outputs": [],
   "source": [
    "chain = LLMChain(llm=client, prompt=prompt_template_name)"
   ]
  },
  {
   "cell_type": "code",
   "execution_count": 6,
   "id": "223d9aca-00c0-4628-a3a7-6ee7b9b9bb97",
   "metadata": {},
   "outputs": [
    {
     "data": {
      "text/plain": [
       "{'product': 'shoes', 'text': '\\n\\nSole Haven Footwear Co.'}"
      ]
     },
     "execution_count": 6,
     "metadata": {},
     "output_type": "execute_result"
    }
   ],
   "source": [
    "chain.invoke(\"shoes\")"
   ]
  },
  {
   "cell_type": "markdown",
   "id": "7d2842ea-6145-4489-aa1a-1186c406d823",
   "metadata": {},
   "source": [
    "# Conversation Buffer Memory"
   ]
  },
  {
   "cell_type": "markdown",
   "id": "11e5ad6c-d1c5-4811-a964-11e4740725bc",
   "metadata": {},
   "source": [
    "#### We can attach memory to remember all previous conversation"
   ]
  },
  {
   "cell_type": "code",
   "execution_count": 11,
   "id": "3b4ead1a-8012-42a2-b13f-899672aa0326",
   "metadata": {},
   "outputs": [],
   "source": [
    "from langchain.memory import ConversationBufferMemory"
   ]
  },
  {
   "cell_type": "code",
   "execution_count": 12,
   "id": "070eb6bd-e5be-490a-8551-6045403b1234",
   "metadata": {},
   "outputs": [],
   "source": [
    "memory = ConversationBufferMemory()"
   ]
  },
  {
   "cell_type": "code",
   "execution_count": 13,
   "id": "01602d43-17ef-4ee4-9cff-4cdaa3b813b1",
   "metadata": {},
   "outputs": [],
   "source": [
    "prompt_template_name = PromptTemplate(\n",
    "    input_variables=['product'],\n",
    "    template=\"Suggest me a good name for a company for sells {product}\"\n",
    ")"
   ]
  },
  {
   "cell_type": "code",
   "execution_count": 14,
   "id": "b4824575-d9ab-4e28-932a-69202a8f6c8c",
   "metadata": {},
   "outputs": [],
   "source": [
    "chain = LLMChain(llm=client, prompt=prompt_template_name, memory=memory)"
   ]
  },
  {
   "cell_type": "code",
   "execution_count": 15,
   "id": "0179e018-9ca0-4f9e-b421-51e7bfc71b96",
   "metadata": {},
   "outputs": [
    {
     "name": "stdout",
     "output_type": "stream",
     "text": [
      "\n",
      "\n",
      "1. Sweet Temptations Co.\n",
      "2. ChocoBliss Inc.\n",
      "3. The Chocolate Haven\n",
      "4. Delightful Treats Co.\n",
      "5. Cocoa Craze Co.\n",
      "6. The Chocolate Emporium\n",
      "7. Heavenly Chocolates Inc.\n",
      "8. ChocoFusion Co.\n",
      "9. The Chocolate Boutique\n",
      "10. Indulgence Chocolates Co.\n"
     ]
    }
   ],
   "source": [
    "print(chain.run(\"Chocolates\"))"
   ]
  },
  {
   "cell_type": "code",
   "execution_count": 16,
   "id": "f620871b-47ac-4120-8ec7-7e64d548dbf6",
   "metadata": {},
   "outputs": [
    {
     "name": "stdout",
     "output_type": "stream",
     "text": [
      "\n",
      "\n",
      "\"Ride Cycle Co.\" \n"
     ]
    }
   ],
   "source": [
    "print(chain.run(\"bikes\"))"
   ]
  },
  {
   "cell_type": "code",
   "execution_count": 17,
   "id": "3fa6c6bc-1553-4117-84dd-a661f66dafa8",
   "metadata": {},
   "outputs": [
    {
     "data": {
      "text/plain": [
       "ConversationBufferMemory(chat_memory=ChatMessageHistory(messages=[HumanMessage(content='Chocolates'), AIMessage(content='\\n\\n1. Sweet Temptations Co.\\n2. ChocoBliss Inc.\\n3. The Chocolate Haven\\n4. Delightful Treats Co.\\n5. Cocoa Craze Co.\\n6. The Chocolate Emporium\\n7. Heavenly Chocolates Inc.\\n8. ChocoFusion Co.\\n9. The Chocolate Boutique\\n10. Indulgence Chocolates Co.'), HumanMessage(content='bikes'), AIMessage(content='\\n\\n\"Ride Cycle Co.\" ')]))"
      ]
     },
     "execution_count": 17,
     "metadata": {},
     "output_type": "execute_result"
    }
   ],
   "source": [
    "chain.memory"
   ]
  },
  {
   "cell_type": "code",
   "execution_count": 19,
   "id": "21335fb0-0f50-4df8-8453-f43c99633ac5",
   "metadata": {},
   "outputs": [
    {
     "name": "stdout",
     "output_type": "stream",
     "text": [
      "Human: Chocolates\n",
      "AI: \n",
      "\n",
      "1. Sweet Temptations Co.\n",
      "2. ChocoBliss Inc.\n",
      "3. The Chocolate Haven\n",
      "4. Delightful Treats Co.\n",
      "5. Cocoa Craze Co.\n",
      "6. The Chocolate Emporium\n",
      "7. Heavenly Chocolates Inc.\n",
      "8. ChocoFusion Co.\n",
      "9. The Chocolate Boutique\n",
      "10. Indulgence Chocolates Co.\n",
      "Human: bikes\n",
      "AI: \n",
      "\n",
      "\"Ride Cycle Co.\" \n"
     ]
    }
   ],
   "source": [
    "print(chain.memory.buffer)"
   ]
  },
  {
   "cell_type": "markdown",
   "id": "add1fe08-5c25-4279-9f60-602d2fadfa04",
   "metadata": {},
   "source": [
    "# Conversation Chain"
   ]
  },
  {
   "cell_type": "code",
   "execution_count": 5,
   "id": "3c4c83cf-4383-489d-9a04-1a3bbc619856",
   "metadata": {},
   "outputs": [],
   "source": [
    "from langchain.chains import ConversationChain"
   ]
  },
  {
   "cell_type": "code",
   "execution_count": 6,
   "id": "1c042ccc-ff5d-4091-a8b5-16e5622aa6fe",
   "metadata": {},
   "outputs": [],
   "source": [
    "convo = ConversationChain(llm=client)"
   ]
  },
  {
   "cell_type": "code",
   "execution_count": 7,
   "id": "45513de4-d3f1-4034-b4b3-3ced959d5fce",
   "metadata": {},
   "outputs": [
    {
     "data": {
      "text/plain": [
       "PromptTemplate(input_variables=['history', 'input'], template='The following is a friendly conversation between a human and an AI. The AI is talkative and provides lots of specific details from its context. If the AI does not know the answer to a question, it truthfully says it does not know.\\n\\nCurrent conversation:\\n{history}\\nHuman: {input}\\nAI:')"
      ]
     },
     "execution_count": 7,
     "metadata": {},
     "output_type": "execute_result"
    }
   ],
   "source": [
    "convo.prompt"
   ]
  },
  {
   "cell_type": "code",
   "execution_count": 9,
   "id": "da3a2bab-9056-475d-b222-9a13d944bf2c",
   "metadata": {},
   "outputs": [
    {
     "name": "stdout",
     "output_type": "stream",
     "text": [
      "The following is a friendly conversation between a human and an AI. The AI is talkative and provides lots of specific details from its context. If the AI does not know the answer to a question, it truthfully says it does not know.\n",
      "\n",
      "Current conversation:\n",
      "{history}\n",
      "Human: {input}\n",
      "AI:\n"
     ]
    }
   ],
   "source": [
    "print(convo.prompt.template)"
   ]
  },
  {
   "cell_type": "code",
   "execution_count": 10,
   "id": "bb9eba16-bee2-4cad-8cb8-b835381e1692",
   "metadata": {},
   "outputs": [
    {
     "name": "stderr",
     "output_type": "stream",
     "text": [
      "C:\\Users\\Narex\\anaconda3\\envs\\testingopenai\\lib\\site-packages\\langchain_core\\_api\\deprecation.py:117: LangChainDeprecationWarning: The function `run` was deprecated in LangChain 0.1.0 and will be removed in 0.2.0. Use invoke instead.\n",
      "  warn_deprecated(\n"
     ]
    },
    {
     "data": {
      "text/plain": [
       "' The first Cricket World Cup was won by the West Indies team in 1975. The tournament was held in England and the West Indies defeated Australia in the final by 17 runs. The captain of the West Indies team at the time was Clive Lloyd and the star player was Viv Richards. It was a historic moment for the West Indies as it was their first time winning the World Cup.'"
      ]
     },
     "execution_count": 10,
     "metadata": {},
     "output_type": "execute_result"
    }
   ],
   "source": [
    "convo.invoke(\"Who won the first Cricket World Cup?\")"
   ]
  },
  {
   "cell_type": "code",
   "execution_count": 11,
   "id": "296ae73f-0829-4ccd-8d86-4770666fdd8c",
   "metadata": {},
   "outputs": [
    {
     "data": {
      "text/plain": [
       "{'input': 'What is 5 + 5',\n",
       " 'history': 'Human: Who won the first Cricket World Cup?\\nAI:  The first Cricket World Cup was won by the West Indies team in 1975. The tournament was held in England and the West Indies defeated Australia in the final by 17 runs. The captain of the West Indies team at the time was Clive Lloyd and the star player was Viv Richards. It was a historic moment for the West Indies as it was their first time winning the World Cup.',\n",
       " 'response': '  5 + 5 is 10. This is a basic math equation and the answer is 10. Is there anything else you would like to know?'}"
      ]
     },
     "execution_count": 11,
     "metadata": {},
     "output_type": "execute_result"
    }
   ],
   "source": [
    "convo.invoke(\"What is 5 + 5\")"
   ]
  },
  {
   "cell_type": "code",
   "execution_count": 12,
   "id": "d1a7f1a4-f787-475f-b972-4510f19451a8",
   "metadata": {},
   "outputs": [
    {
     "data": {
      "text/plain": [
       "{'input': 'How much is 5 + 5 * 10?',\n",
       " 'history': 'Human: Who won the first Cricket World Cup?\\nAI:  The first Cricket World Cup was won by the West Indies team in 1975. The tournament was held in England and the West Indies defeated Australia in the final by 17 runs. The captain of the West Indies team at the time was Clive Lloyd and the star player was Viv Richards. It was a historic moment for the West Indies as it was their first time winning the World Cup.\\nHuman: What is 5 + 5\\nAI:   5 + 5 is 10. This is a basic math equation and the answer is 10. Is there anything else you would like to know?',\n",
       " 'response': '  5 + 5 * 10 is 55. This is because the order of operations states that the multiplication should be done first, resulting in 50, and then addition should be done, resulting in a final answer of 55. Is there anything else I can assist you with?'}"
      ]
     },
     "execution_count": 12,
     "metadata": {},
     "output_type": "execute_result"
    }
   ],
   "source": [
    "convo.invoke(\"How much is 5 + 5 * 10?\")"
   ]
  },
  {
   "cell_type": "code",
   "execution_count": 13,
   "id": "d0bbc5d2-97a2-4308-a5b9-d870f42c369f",
   "metadata": {},
   "outputs": [
    {
     "data": {
      "text/plain": [
       "{'input': 'Who was the captain of the winning team?',\n",
       " 'history': 'Human: Who won the first Cricket World Cup?\\nAI:  The first Cricket World Cup was won by the West Indies team in 1975. The tournament was held in England and the West Indies defeated Australia in the final by 17 runs. The captain of the West Indies team at the time was Clive Lloyd and the star player was Viv Richards. It was a historic moment for the West Indies as it was their first time winning the World Cup.\\nHuman: What is 5 + 5\\nAI:   5 + 5 is 10. This is a basic math equation and the answer is 10. Is there anything else you would like to know?\\nHuman: How much is 5 + 5 * 10?\\nAI:   5 + 5 * 10 is 55. This is because the order of operations states that the multiplication should be done first, resulting in 50, and then addition should be done, resulting in a final answer of 55. Is there anything else I can assist you with?',\n",
       " 'response': ' The captain of the West Indies team during the 1975 Cricket World Cup was Clive Lloyd. He led the team to their first ever World Cup victory and was considered a strong and influential leader on the field. Is there any other information you would like to know?'}"
      ]
     },
     "execution_count": 13,
     "metadata": {},
     "output_type": "execute_result"
    }
   ],
   "source": [
    "convo.invoke(\"Who was the captain of the winning team?\")"
   ]
  },
  {
   "cell_type": "code",
   "execution_count": 14,
   "id": "88ce1087-5d4f-4d7c-ab99-07c3f1dbdf61",
   "metadata": {},
   "outputs": [
    {
     "data": {
      "text/plain": [
       "{'input': 'Which math operations did I tell you to do?',\n",
       " 'history': 'Human: Who won the first Cricket World Cup?\\nAI:  The first Cricket World Cup was won by the West Indies team in 1975. The tournament was held in England and the West Indies defeated Australia in the final by 17 runs. The captain of the West Indies team at the time was Clive Lloyd and the star player was Viv Richards. It was a historic moment for the West Indies as it was their first time winning the World Cup.\\nHuman: What is 5 + 5\\nAI:   5 + 5 is 10. This is a basic math equation and the answer is 10. Is there anything else you would like to know?\\nHuman: How much is 5 + 5 * 10?\\nAI:   5 + 5 * 10 is 55. This is because the order of operations states that the multiplication should be done first, resulting in 50, and then addition should be done, resulting in a final answer of 55. Is there anything else I can assist you with?\\nHuman: Who was the captain of the winning team?\\nAI:  The captain of the West Indies team during the 1975 Cricket World Cup was Clive Lloyd. He led the team to their first ever World Cup victory and was considered a strong and influential leader on the field. Is there any other information you would like to know?',\n",
       " 'response': '  You told me to do addition and multiplication. Is there anything else you would like me to calculate for you?'}"
      ]
     },
     "execution_count": 14,
     "metadata": {},
     "output_type": "execute_result"
    }
   ],
   "source": [
    "convo.invoke(\"Which math operations did I tell you to do?\")"
   ]
  },
  {
   "cell_type": "markdown",
   "id": "39a219af-8365-4060-b6ce-1dd8b69d6aff",
   "metadata": {},
   "source": [
    "# Conversation Buffer Window Memory"
   ]
  },
  {
   "cell_type": "code",
   "execution_count": 15,
   "id": "83693f99-a75e-49c9-945e-aa7a9f675a62",
   "metadata": {},
   "outputs": [],
   "source": [
    "from langchain.memory import ConversationBufferWindowMemory"
   ]
  },
  {
   "cell_type": "code",
   "execution_count": 25,
   "id": "6c1caf81-c9ac-44f3-b46f-e97711d58144",
   "metadata": {},
   "outputs": [],
   "source": [
    "memory = ConversationBufferWindowMemory(k=3)"
   ]
  },
  {
   "cell_type": "code",
   "execution_count": 26,
   "id": "3eb399f1-980a-4cce-ab0f-58154453411a",
   "metadata": {},
   "outputs": [],
   "source": [
    "convo = ConversationChain(llm=client, memory=memory)"
   ]
  },
  {
   "cell_type": "code",
   "execution_count": 27,
   "id": "18f8642b-7386-4f8f-9b0a-23cec2240bbd",
   "metadata": {},
   "outputs": [
    {
     "data": {
      "text/plain": [
       "{'input': 'Who won the first IPL?',\n",
       " 'history': '',\n",
       " 'response': ' The first IPL, or Indian Premier League, was won by the Rajasthan Royals in 2008. They beat the Chennai Super Kings by 3 wickets in the final match. The MVP, or Most Valuable Player, for that season was Shane Watson from the Rajasthan Royals. He scored a total of 472 runs and took 17 wickets during the tournament.'}"
      ]
     },
     "execution_count": 27,
     "metadata": {},
     "output_type": "execute_result"
    }
   ],
   "source": [
    "convo.invoke(\"Who won the first IPL?\")"
   ]
  },
  {
   "cell_type": "code",
   "execution_count": 28,
   "id": "dffe17d9-afb6-49c7-875d-5d547e6ff0f5",
   "metadata": {},
   "outputs": [
    {
     "data": {
      "text/plain": [
       "{'input': 'What is probosis?',\n",
       " 'history': 'Human: Who won the first IPL?\\nAI:  The first IPL, or Indian Premier League, was won by the Rajasthan Royals in 2008. They beat the Chennai Super Kings by 3 wickets in the final match. The MVP, or Most Valuable Player, for that season was Shane Watson from the Rajasthan Royals. He scored a total of 472 runs and took 17 wickets during the tournament.',\n",
       " 'response': \" Probosis refers to the elongated snout or nose of certain animals, such as elephants or tapirs. It is used for various purposes, such as breathing, smelling, and grasping objects. In some animals, the probosis can also be used for defensive purposes, such as in the case of the male narwhal's tusk.\"}"
      ]
     },
     "execution_count": 28,
     "metadata": {},
     "output_type": "execute_result"
    }
   ],
   "source": [
    "convo.invoke(\"What is probosis?\")"
   ]
  },
  {
   "cell_type": "code",
   "execution_count": 29,
   "id": "eab629f8-eb51-4539-bcbb-3d5a51e6eebe",
   "metadata": {},
   "outputs": [
    {
     "data": {
      "text/plain": [
       "{'input': 'Where was the match held?',\n",
       " 'history': \"Human: Who won the first IPL?\\nAI:  The first IPL, or Indian Premier League, was won by the Rajasthan Royals in 2008. They beat the Chennai Super Kings by 3 wickets in the final match. The MVP, or Most Valuable Player, for that season was Shane Watson from the Rajasthan Royals. He scored a total of 472 runs and took 17 wickets during the tournament.\\nHuman: What is probosis?\\nAI:  Probosis refers to the elongated snout or nose of certain animals, such as elephants or tapirs. It is used for various purposes, such as breathing, smelling, and grasping objects. In some animals, the probosis can also be used for defensive purposes, such as in the case of the male narwhal's tusk.\",\n",
       " 'response': ' The first IPL match was held at Chinnaswamy Stadium in Bengaluru, India. This is the home ground for the Royal Challengers Bangalore team. The stadium has a capacity of 35,000 spectators and is known for its loud and enthusiastic crowds. The match was sold out and had a thrilling atmosphere as it was the first ever IPL match.'}"
      ]
     },
     "execution_count": 29,
     "metadata": {},
     "output_type": "execute_result"
    }
   ],
   "source": [
    "convo.invoke(\"Where was the match held?\")"
   ]
  },
  {
   "cell_type": "code",
   "execution_count": null,
   "id": "ebcd9ac4-3a1a-46e0-af8a-cd566916d9da",
   "metadata": {},
   "outputs": [],
   "source": []
  },
  {
   "cell_type": "code",
   "execution_count": null,
   "id": "3417a564-b558-438e-865a-1e05f879cacf",
   "metadata": {},
   "outputs": [],
   "source": []
  },
  {
   "cell_type": "code",
   "execution_count": null,
   "id": "d64693a6-0ae9-41e7-be60-f085f8543000",
   "metadata": {},
   "outputs": [],
   "source": []
  },
  {
   "cell_type": "code",
   "execution_count": null,
   "id": "1baa4a7c-c352-4785-b242-462f909f15fe",
   "metadata": {},
   "outputs": [],
   "source": []
  },
  {
   "cell_type": "code",
   "execution_count": null,
   "id": "21c48830-c2d2-4003-b04f-d09637326d18",
   "metadata": {},
   "outputs": [],
   "source": []
  },
  {
   "cell_type": "code",
   "execution_count": null,
   "id": "4a80fb65-4763-49f6-bac1-8e128fef3ae0",
   "metadata": {},
   "outputs": [],
   "source": []
  }
 ],
 "metadata": {
  "kernelspec": {
   "display_name": "Python 3 (ipykernel)",
   "language": "python",
   "name": "python3"
  },
  "language_info": {
   "codemirror_mode": {
    "name": "ipython",
    "version": 3
   },
   "file_extension": ".py",
   "mimetype": "text/x-python",
   "name": "python",
   "nbconvert_exporter": "python",
   "pygments_lexer": "ipython3",
   "version": "3.10.14"
  }
 },
 "nbformat": 4,
 "nbformat_minor": 5
}

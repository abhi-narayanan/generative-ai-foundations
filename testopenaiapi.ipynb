{
 "cells": [
  {
   "cell_type": "code",
   "execution_count": 6,
   "id": "62ab71e4-02dc-4722-9d54-0dcffed0b30b",
   "metadata": {},
   "outputs": [],
   "source": [
    "import openai\n",
    "import pandas as pd"
   ]
  },
  {
   "cell_type": "markdown",
   "id": "78dbd31c-f1a1-46c1-9066-9f530475d4b9",
   "metadata": {},
   "source": [
    "# 1. What is OpenAI API?\n",
    "\n",
    "This OpenAI API has been designed to provide developers with seamless access to state of the art, pre-trained, artificial intelligence models like GPT3, GPT4, DALL-E, Whisper, etc. By using this API you can integrate cutting-edge AI capabilities into your applications regardless of the programming language.\n",
    "\n",
    "By using OpenAI API you can unlock the advanced functionalities and you can enhance the intelligence and performance of your applications."
   ]
  },
  {
   "cell_type": "markdown",
   "id": "152663f4-80d5-4590-aec2-a4b7f3592d7e",
   "metadata": {},
   "source": [
    "# 2. Generate OpenAI API key"
   ]
  },
  {
   "cell_type": "code",
   "execution_count": null,
   "id": "b486f74b-fc2a-423c-9477-73ed2373df89",
   "metadata": {},
   "outputs": [],
   "source": [
    "mykey = \"\""
   ]
  },
  {
   "cell_type": "code",
   "execution_count": null,
   "id": "451dbb57-b73e-4a17-be5b-12f4016d2081",
   "metadata": {},
   "outputs": [],
   "source": [
    "openai.api_key = mykey"
   ]
  },
  {
   "cell_type": "code",
   "execution_count": null,
   "id": "4d38fccb-5d03-4303-88e3-69a259d39a54",
   "metadata": {},
   "outputs": [],
   "source": [
    "all_models = openai.models.list()"
   ]
  },
  {
   "cell_type": "code",
   "execution_count": null,
   "id": "189a8361-d21d-4e66-9a48-c8040dd1736a",
   "metadata": {},
   "outputs": [],
   "source": [
    "list(all_models)"
   ]
  },
  {
   "cell_type": "code",
   "execution_count": null,
   "id": "bade8610-fe3e-4cae-8bf9-c8fbfd9eba45",
   "metadata": {},
   "outputs": [],
   "source": [
    "pd.DataFrame(list(all_models), columns = ['id', 'created', 'object', 'owned_by'])"
   ]
  },
  {
   "cell_type": "markdown",
   "id": "779cd587-c5ce-4d29-adeb-94abf03bf793",
   "metadata": {},
   "source": [
    "# 3. OpenAI API Playground"
   ]
  },
  {
   "cell_type": "code",
   "execution_count": 7,
   "id": "ee63bac1-dfd7-43de-9380-815ac54df965",
   "metadata": {},
   "outputs": [],
   "source": [
    "client = openai.OpenAI()"
   ]
  },
  {
   "cell_type": "code",
   "execution_count": null,
   "id": "caf624a6-f318-4428-938c-afb04031c80f",
   "metadata": {},
   "outputs": [],
   "source": [
    "response = client.chat.completions.create(\n",
    "    model = 'gpt-3.5-turbo',\n",
    "    messages = [\n",
    "        {\n",
    "            \"role\": \"system\",\n",
    "            \"content\": \"You are a helpful assistant\"\n",
    "        },\n",
    "        {\n",
    "            \"role\": \"user\",\n",
    "            \"content\": \"How can I make money?\"\n",
    "        },\n",
    "        {\n",
    "            \"role\": \"assistant\",\n",
    "            \"content\": \"There are many ways to make money.\"\n",
    "        }\n",
    "    ],\n",
    "    temperature=1,\n",
    "    max_tokens=256,\n",
    "    top_p=1,\n",
    "    frequency_penalty=0,\n",
    "    presence_penalty=0\n",
    ")"
   ]
  },
  {
   "cell_type": "markdown",
   "id": "5415b2da-2421-45fc-a5d1-8cd433a98dfb",
   "metadata": {},
   "source": [
    "# 4. Chat Completion API and Function Calling"
   ]
  },
  {
   "cell_type": "code",
   "execution_count": null,
   "id": "98394b34-e5f4-438d-aef7-8783a1fabe17",
   "metadata": {},
   "outputs": [],
   "source": [
    "from openai import OpenAI\n",
    "client = OpenAI()\n",
    "\n",
    "response = client.chat.completions.create(\n",
    "  model=\"gpt-3.5-turbo\",\n",
    "  messages=[\n",
    "    {\"role\": \"system\", \"content\": \"You are a helpful assistant.\"},\n",
    "    {\"role\": \"user\", \"content\": \"Who won the world series in 2020?\"},\n",
    "    {\"role\": \"assistant\", \"content\": \"The Los Angeles Dodgers won the World Series in 2020.\"},\n",
    "    {\"role\": \"user\", \"content\": \"Where was it played?\"}\n",
    "  ],\n",
    "    max_tokens=150,\n",
    "    n=3 # No. of responses to output\n",
    ")"
   ]
  },
  {
   "cell_type": "code",
   "execution_count": null,
   "id": "3bd16440-175a-46a1-9ba0-6518017d5ac8",
   "metadata": {},
   "outputs": [],
   "source": [
    "# Get the assistant's reply\n",
    "response.choices[0].message.content"
   ]
  },
  {
   "cell_type": "code",
   "execution_count": null,
   "id": "b326e0db-9264-4026-a99f-0fd368e65cf7",
   "metadata": {},
   "outputs": [],
   "source": []
  },
  {
   "cell_type": "code",
   "execution_count": null,
   "id": "b2d1ab78-b693-496c-8538-bfee9654b69f",
   "metadata": {},
   "outputs": [],
   "source": []
  }
 ],
 "metadata": {
  "kernelspec": {
   "display_name": "Python 3 (ipykernel)",
   "language": "python",
   "name": "python3"
  },
  "language_info": {
   "codemirror_mode": {
    "name": "ipython",
    "version": 3
   },
   "file_extension": ".py",
   "mimetype": "text/x-python",
   "name": "python",
   "nbconvert_exporter": "python",
   "pygments_lexer": "ipython3",
   "version": "3.10.14"
  }
 },
 "nbformat": 4,
 "nbformat_minor": 5
}
